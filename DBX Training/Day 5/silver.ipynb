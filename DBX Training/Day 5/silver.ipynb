{
 "cells": [
  {
   "cell_type": "code",
   "execution_count": 0,
   "metadata": {
    "application/vnd.databricks.v1+cell": {
     "cellMetadata": {
      "byteLimit": 2048000,
      "implicitDf": true,
      "rowLimit": 10000
     },
     "inputWidgets": {},
     "nuid": "9c2e1465-9791-47e7-88de-89a54413fd82",
     "showTitle": false,
     "tableResultSettingsMap": {},
     "title": ""
    }
   },
   "outputs": [],
   "source": [
    "%sql\n",
    "select * from dev.bronze.sales "
   ]
  },
  {
   "cell_type": "code",
   "execution_count": 0,
   "metadata": {
    "application/vnd.databricks.v1+cell": {
     "cellMetadata": {
      "byteLimit": 2048000,
      "rowLimit": 10000
     },
     "inputWidgets": {},
     "nuid": "30620b6d-730d-4359-8aad-cbfbc11a9fa8",
     "showTitle": true,
     "tableResultSettingsMap": {},
     "title": "Sales_silver"
    }
   },
   "outputs": [],
   "source": [
    "df=spark.read.table(\"dev.bronze.sales\")\n",
    "df_final=df.dropDuplicates().dropna().drop(\"ingestion_date\")\n",
    "df_final.write.mode(\"overwrite\").saveAsTable(\"dev.silver.sales\")"
   ]
  },
  {
   "cell_type": "code",
   "execution_count": 0,
   "metadata": {
    "application/vnd.databricks.v1+cell": {
     "cellMetadata": {
      "byteLimit": 2048000,
      "implicitDf": true,
      "rowLimit": 10000
     },
     "inputWidgets": {},
     "nuid": "116cd052-bd47-41df-84ee-84b81256927d",
     "showTitle": false,
     "tableResultSettingsMap": {},
     "title": ""
    }
   },
   "outputs": [],
   "source": [
    "%sql\n",
    "create or replace table dev.silver.products_scd (product_id int, product_name string, product_category string, product_price)"
   ]
  },
  {
   "cell_type": "code",
   "execution_count": 0,
   "metadata": {
    "application/vnd.databricks.v1+cell": {
     "cellMetadata": {
      "byteLimit": 2048000,
      "implicitDf": true,
      "rowLimit": 10000
     },
     "inputWidgets": {},
     "nuid": "00cf157a-0833-4387-815d-b1429b440fcd",
     "showTitle": false,
     "tableResultSettingsMap": {},
     "title": ""
    }
   },
   "outputs": [],
   "source": [
    "%sql\n",
    "\n",
    "MERGE INTO dev.silver.customers_scd AS target\n",
    "USING dev.bronze.product AS source\n",
    "ON target.product_id = source.product_id\n",
    "WHEN MATCHED AND source.operation = 'DELETE' THEN DELETE\n",
    "WHEN MATCHED AND source.operation = 'UPDATE' THEN UPDATE SET *\n",
    "WHEN NOT MATCHED AND source.operation = 'INSERT' THEN\n",
    "  INSERT (product_id, product_name, product_category, product_price)\n",
    "  VALUES (source.product_id, source.product_name, source.product_category, source.product_price)"
   ]
  },
  {
   "cell_type": "code",
   "execution_count": 0,
   "metadata": {
    "application/vnd.databricks.v1+cell": {
     "cellMetadata": {
      "byteLimit": 2048000,
      "implicitDf": true,
      "rowLimit": 10000
     },
     "inputWidgets": {},
     "nuid": "43422994-c873-4e4f-b008-d8ee7645448f",
     "showTitle": false,
     "tableResultSettingsMap": {
      "0": {
       "dataGridStateBlob": "{\"version\":1,\"tableState\":{\"columnPinning\":{\"left\":[\"#row_number#\"],\"right\":[]},\"columnSizing\":{},\"columnVisibility\":{}},\"settings\":{\"columns\":{}},\"syncTimestamp\":1754460557957}",
       "filterBlob": null,
       "queryPlanFiltersBlob": null,
       "tableResultIndex": 0
      }
     },
     "title": ""
    }
   },
   "outputs": [],
   "source": [
    "%sql\n",
    "select * from dev.silver.products_scd"
   ]
  },
  {
   "cell_type": "code",
   "execution_count": 0,
   "metadata": {
    "application/vnd.databricks.v1+cell": {
     "cellMetadata": {
      "byteLimit": 2048000,
      "implicitDf": true,
      "rowLimit": 10000
     },
     "inputWidgets": {},
     "nuid": "bc49fc7f-81bb-496b-878a-5993188c49b8",
     "showTitle": false,
     "tableResultSettingsMap": {},
     "title": ""
    }
   },
   "outputs": [],
   "source": [
    "%sql\n",
    "-- describe dev.bronze.customers;\n",
    "\n",
    "create or replace table dev.silver.customers_scd2( customer_id int, customer_name string, customer_email string, customer_city string, customer_state string)"
   ]
  },
  {
   "cell_type": "code",
   "execution_count": 0,
   "metadata": {
    "application/vnd.databricks.v1+cell": {
     "cellMetadata": {
      "byteLimit": 2048000,
      "implicitDf": true,
      "rowLimit": 10000
     },
     "inputWidgets": {},
     "nuid": "5c33b999-dc67-4b54-bd13-1954849e4606",
     "showTitle": false,
     "tableResultSettingsMap": {},
     "title": ""
    }
   },
   "outputs": [],
   "source": [
    "%sql\n",
    "select * from dev.bronze.customers"
   ]
  },
  {
   "cell_type": "code",
   "execution_count": 0,
   "metadata": {
    "application/vnd.databricks.v1+cell": {
     "cellMetadata": {
      "byteLimit": 2048000,
      "implicitDf": true,
      "rowLimit": 10000
     },
     "inputWidgets": {},
     "nuid": "bbec054e-eb7b-45bf-ad35-315bc3d99d42",
     "showTitle": false,
     "tableResultSettingsMap": {},
     "title": ""
    }
   },
   "outputs": [],
   "source": [
    "%sql\n",
    "MERGE INTO dev.silver.customers_scd2 AS target\n",
    "USING (\n",
    "  SELECT *\n",
    "  FROM dev.bronze.customers\n",
    "  QUALIFY ROW_NUMBER() OVER (PARTITION BY customer_id ORDER BY sequenceNum DESC) = 1\n",
    ") AS source\n",
    "ON target.customer_id = source.customer_id -- Corrected the join key\n",
    "\n",
    "-- Condition 1: The latest operation for a matched customer was DELETE\n",
    "WHEN MATCHED AND source.operation = 'DELETE' THEN\n",
    "  DELETE\n",
    "\n",
    "-- Condition 2: The latest operation for a matched customer was UPDATE (or a re-INSERT)\n",
    "WHEN MATCHED AND source.operation IN ('UPDATE', 'INSERT') THEN\n",
    "  UPDATE SET\n",
    "    target.customer_name = source.customer_name,\n",
    "    target.customer_email = source.customer_email,\n",
    "    target.customer_city = source.customer_city,\n",
    "    target.customer_state = source.customer_state\n",
    "\n",
    "-- Condition 3: The customer does not exist in the silver table, and the operation is INSERT\n",
    "WHEN NOT MATCHED AND source.operation = 'INSERT' THEN\n",
    "  -- This correctly inserts brand new customers like customer_id 6\n",
    "  INSERT (\n",
    "    customer_id,\n",
    "    customer_name,\n",
    "    customer_email,\n",
    "    customer_city,\n",
    "    customer_state\n",
    "  )\n",
    "  VALUES (\n",
    "    source.customer_id,\n",
    "    source.customer_name,\n",
    "    source.customer_email,\n",
    "    source.customer_city,\n",
    "    source.customer_state\n",
    "  )"
   ]
  },
  {
   "cell_type": "code",
   "execution_count": 0,
   "metadata": {
    "application/vnd.databricks.v1+cell": {
     "cellMetadata": {
      "byteLimit": 2048000,
      "implicitDf": true,
      "rowLimit": 10000
     },
     "inputWidgets": {},
     "nuid": "526c3025-8511-4369-8425-0f6936db26b5",
     "showTitle": false,
     "tableResultSettingsMap": {},
     "title": ""
    }
   },
   "outputs": [],
   "source": [
    "%sql\n",
    "select * from dev.silver.customers_scd2"
   ]
  }
 ],
 "metadata": {
  "application/vnd.databricks.v1+notebook": {
   "computePreferences": null,
   "dashboards": [],
   "environmentMetadata": {
    "base_environment": "",
    "environment_version": "2"
   },
   "inputWidgetPreferences": null,
   "language": "python",
   "notebookMetadata": {
    "mostRecentlyExecutedCommandWithImplicitDF": {
     "commandId": 5355707697137864,
     "dataframes": [
      "_sqldf"
     ]
    },
    "pythonIndentUnit": 4
   },
   "notebookName": "silver",
   "widgets": {}
  },
  "language_info": {
   "name": "python"
  }
 },
 "nbformat": 4,
 "nbformat_minor": 0
}
